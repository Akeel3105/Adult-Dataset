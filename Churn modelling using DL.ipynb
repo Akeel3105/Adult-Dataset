{
 "cells": [
  {
   "cell_type": "code",
   "execution_count": null,
   "metadata": {},
   "outputs": [],
   "source": [
    "# Importing required libraries"
   ]
  },
  {
   "cell_type": "code",
   "execution_count": 1,
   "metadata": {},
   "outputs": [],
   "source": [
    "import numpy as np\n",
    "import seaborn as sns\n",
    "import pandas as pd\n",
    "from sklearn.model_selection import train_test_split\n",
    "from sklearn.preprocessing import StandardScaler, LabelEncoder, OneHotEncoder\n",
    "sns.set_style('whitegrid')\n",
    "%matplotlib inline\n",
    "import matplotlib.pyplot as plt"
   ]
  },
  {
   "cell_type": "code",
   "execution_count": null,
   "metadata": {},
   "outputs": [],
   "source": [
    "# Loading dataset"
   ]
  },
  {
   "cell_type": "code",
   "execution_count": 2,
   "metadata": {},
   "outputs": [],
   "source": [
    "dataset = pd.read_csv(\"Churn_Modelling.csv\")"
   ]
  },
  {
   "cell_type": "code",
   "execution_count": null,
   "metadata": {},
   "outputs": [],
   "source": [
    "# Firsr few rows"
   ]
  },
  {
   "cell_type": "code",
   "execution_count": 5,
   "metadata": {},
   "outputs": [
    {
     "data": {
      "text/html": [
       "<div>\n",
       "<style scoped>\n",
       "    .dataframe tbody tr th:only-of-type {\n",
       "        vertical-align: middle;\n",
       "    }\n",
       "\n",
       "    .dataframe tbody tr th {\n",
       "        vertical-align: top;\n",
       "    }\n",
       "\n",
       "    .dataframe thead th {\n",
       "        text-align: right;\n",
       "    }\n",
       "</style>\n",
       "<table border=\"1\" class=\"dataframe\">\n",
       "  <thead>\n",
       "    <tr style=\"text-align: right;\">\n",
       "      <th></th>\n",
       "      <th>RowNumber</th>\n",
       "      <th>CustomerId</th>\n",
       "      <th>Surname</th>\n",
       "      <th>CreditScore</th>\n",
       "      <th>Geography</th>\n",
       "      <th>Gender</th>\n",
       "      <th>Age</th>\n",
       "      <th>Tenure</th>\n",
       "      <th>Balance</th>\n",
       "      <th>NumOfProducts</th>\n",
       "      <th>HasCrCard</th>\n",
       "      <th>IsActiveMember</th>\n",
       "      <th>EstimatedSalary</th>\n",
       "      <th>Exited</th>\n",
       "    </tr>\n",
       "  </thead>\n",
       "  <tbody>\n",
       "    <tr>\n",
       "      <th>0</th>\n",
       "      <td>1</td>\n",
       "      <td>15634602</td>\n",
       "      <td>Hargrave</td>\n",
       "      <td>619</td>\n",
       "      <td>France</td>\n",
       "      <td>Female</td>\n",
       "      <td>42</td>\n",
       "      <td>2</td>\n",
       "      <td>0.00</td>\n",
       "      <td>1</td>\n",
       "      <td>1</td>\n",
       "      <td>1</td>\n",
       "      <td>101348.88</td>\n",
       "      <td>1</td>\n",
       "    </tr>\n",
       "    <tr>\n",
       "      <th>1</th>\n",
       "      <td>2</td>\n",
       "      <td>15647311</td>\n",
       "      <td>Hill</td>\n",
       "      <td>608</td>\n",
       "      <td>Spain</td>\n",
       "      <td>Female</td>\n",
       "      <td>41</td>\n",
       "      <td>1</td>\n",
       "      <td>83807.86</td>\n",
       "      <td>1</td>\n",
       "      <td>0</td>\n",
       "      <td>1</td>\n",
       "      <td>112542.58</td>\n",
       "      <td>0</td>\n",
       "    </tr>\n",
       "    <tr>\n",
       "      <th>2</th>\n",
       "      <td>3</td>\n",
       "      <td>15619304</td>\n",
       "      <td>Onio</td>\n",
       "      <td>502</td>\n",
       "      <td>France</td>\n",
       "      <td>Female</td>\n",
       "      <td>42</td>\n",
       "      <td>8</td>\n",
       "      <td>159660.80</td>\n",
       "      <td>3</td>\n",
       "      <td>1</td>\n",
       "      <td>0</td>\n",
       "      <td>113931.57</td>\n",
       "      <td>1</td>\n",
       "    </tr>\n",
       "  </tbody>\n",
       "</table>\n",
       "</div>"
      ],
      "text/plain": [
       "   RowNumber  CustomerId   Surname  CreditScore Geography  Gender  Age  \\\n",
       "0          1    15634602  Hargrave          619    France  Female   42   \n",
       "1          2    15647311      Hill          608     Spain  Female   41   \n",
       "2          3    15619304      Onio          502    France  Female   42   \n",
       "\n",
       "   Tenure    Balance  NumOfProducts  HasCrCard  IsActiveMember  \\\n",
       "0       2       0.00              1          1               1   \n",
       "1       1   83807.86              1          0               1   \n",
       "2       8  159660.80              3          1               0   \n",
       "\n",
       "   EstimatedSalary  Exited  \n",
       "0        101348.88       1  \n",
       "1        112542.58       0  \n",
       "2        113931.57       1  "
      ]
     },
     "execution_count": 5,
     "metadata": {},
     "output_type": "execute_result"
    }
   ],
   "source": [
    "dataset.head(3)"
   ]
  },
  {
   "cell_type": "code",
   "execution_count": null,
   "metadata": {},
   "outputs": [],
   "source": [
    "# Last few rows"
   ]
  },
  {
   "cell_type": "code",
   "execution_count": 6,
   "metadata": {},
   "outputs": [
    {
     "data": {
      "text/html": [
       "<div>\n",
       "<style scoped>\n",
       "    .dataframe tbody tr th:only-of-type {\n",
       "        vertical-align: middle;\n",
       "    }\n",
       "\n",
       "    .dataframe tbody tr th {\n",
       "        vertical-align: top;\n",
       "    }\n",
       "\n",
       "    .dataframe thead th {\n",
       "        text-align: right;\n",
       "    }\n",
       "</style>\n",
       "<table border=\"1\" class=\"dataframe\">\n",
       "  <thead>\n",
       "    <tr style=\"text-align: right;\">\n",
       "      <th></th>\n",
       "      <th>RowNumber</th>\n",
       "      <th>CustomerId</th>\n",
       "      <th>Surname</th>\n",
       "      <th>CreditScore</th>\n",
       "      <th>Geography</th>\n",
       "      <th>Gender</th>\n",
       "      <th>Age</th>\n",
       "      <th>Tenure</th>\n",
       "      <th>Balance</th>\n",
       "      <th>NumOfProducts</th>\n",
       "      <th>HasCrCard</th>\n",
       "      <th>IsActiveMember</th>\n",
       "      <th>EstimatedSalary</th>\n",
       "      <th>Exited</th>\n",
       "    </tr>\n",
       "  </thead>\n",
       "  <tbody>\n",
       "    <tr>\n",
       "      <th>9997</th>\n",
       "      <td>9998</td>\n",
       "      <td>15584532</td>\n",
       "      <td>Liu</td>\n",
       "      <td>709</td>\n",
       "      <td>France</td>\n",
       "      <td>Female</td>\n",
       "      <td>36</td>\n",
       "      <td>7</td>\n",
       "      <td>0.00</td>\n",
       "      <td>1</td>\n",
       "      <td>0</td>\n",
       "      <td>1</td>\n",
       "      <td>42085.58</td>\n",
       "      <td>1</td>\n",
       "    </tr>\n",
       "    <tr>\n",
       "      <th>9998</th>\n",
       "      <td>9999</td>\n",
       "      <td>15682355</td>\n",
       "      <td>Sabbatini</td>\n",
       "      <td>772</td>\n",
       "      <td>Germany</td>\n",
       "      <td>Male</td>\n",
       "      <td>42</td>\n",
       "      <td>3</td>\n",
       "      <td>75075.31</td>\n",
       "      <td>2</td>\n",
       "      <td>1</td>\n",
       "      <td>0</td>\n",
       "      <td>92888.52</td>\n",
       "      <td>1</td>\n",
       "    </tr>\n",
       "    <tr>\n",
       "      <th>9999</th>\n",
       "      <td>10000</td>\n",
       "      <td>15628319</td>\n",
       "      <td>Walker</td>\n",
       "      <td>792</td>\n",
       "      <td>France</td>\n",
       "      <td>Female</td>\n",
       "      <td>28</td>\n",
       "      <td>4</td>\n",
       "      <td>130142.79</td>\n",
       "      <td>1</td>\n",
       "      <td>1</td>\n",
       "      <td>0</td>\n",
       "      <td>38190.78</td>\n",
       "      <td>0</td>\n",
       "    </tr>\n",
       "  </tbody>\n",
       "</table>\n",
       "</div>"
      ],
      "text/plain": [
       "      RowNumber  CustomerId    Surname  CreditScore Geography  Gender  Age  \\\n",
       "9997       9998    15584532        Liu          709    France  Female   36   \n",
       "9998       9999    15682355  Sabbatini          772   Germany    Male   42   \n",
       "9999      10000    15628319     Walker          792    France  Female   28   \n",
       "\n",
       "      Tenure    Balance  NumOfProducts  HasCrCard  IsActiveMember  \\\n",
       "9997       7       0.00              1          0               1   \n",
       "9998       3   75075.31              2          1               0   \n",
       "9999       4  130142.79              1          1               0   \n",
       "\n",
       "      EstimatedSalary  Exited  \n",
       "9997         42085.58       1  \n",
       "9998         92888.52       1  \n",
       "9999         38190.78       0  "
      ]
     },
     "execution_count": 6,
     "metadata": {},
     "output_type": "execute_result"
    }
   ],
   "source": [
    "dataset.tail(3)"
   ]
  },
  {
   "cell_type": "code",
   "execution_count": null,
   "metadata": {},
   "outputs": [],
   "source": [
    "# shape of dataset"
   ]
  },
  {
   "cell_type": "code",
   "execution_count": 7,
   "metadata": {},
   "outputs": [
    {
     "data": {
      "text/plain": [
       "(10000, 14)"
      ]
     },
     "execution_count": 7,
     "metadata": {},
     "output_type": "execute_result"
    }
   ],
   "source": [
    "dataset.shape"
   ]
  },
  {
   "cell_type": "code",
   "execution_count": null,
   "metadata": {},
   "outputs": [],
   "source": [
    "# a brief of dataset"
   ]
  },
  {
   "cell_type": "code",
   "execution_count": 8,
   "metadata": {},
   "outputs": [
    {
     "data": {
      "text/html": [
       "<div>\n",
       "<style scoped>\n",
       "    .dataframe tbody tr th:only-of-type {\n",
       "        vertical-align: middle;\n",
       "    }\n",
       "\n",
       "    .dataframe tbody tr th {\n",
       "        vertical-align: top;\n",
       "    }\n",
       "\n",
       "    .dataframe thead th {\n",
       "        text-align: right;\n",
       "    }\n",
       "</style>\n",
       "<table border=\"1\" class=\"dataframe\">\n",
       "  <thead>\n",
       "    <tr style=\"text-align: right;\">\n",
       "      <th></th>\n",
       "      <th>TotalMissing</th>\n",
       "      <th>%Missing</th>\n",
       "      <th>DataType</th>\n",
       "      <th>Unique</th>\n",
       "    </tr>\n",
       "  </thead>\n",
       "  <tbody>\n",
       "    <tr>\n",
       "      <th>RowNumber</th>\n",
       "      <td>0</td>\n",
       "      <td>0.0</td>\n",
       "      <td>int64</td>\n",
       "      <td>10000</td>\n",
       "    </tr>\n",
       "    <tr>\n",
       "      <th>CustomerId</th>\n",
       "      <td>0</td>\n",
       "      <td>0.0</td>\n",
       "      <td>int64</td>\n",
       "      <td>10000</td>\n",
       "    </tr>\n",
       "    <tr>\n",
       "      <th>Surname</th>\n",
       "      <td>0</td>\n",
       "      <td>0.0</td>\n",
       "      <td>object</td>\n",
       "      <td>2932</td>\n",
       "    </tr>\n",
       "    <tr>\n",
       "      <th>CreditScore</th>\n",
       "      <td>0</td>\n",
       "      <td>0.0</td>\n",
       "      <td>int64</td>\n",
       "      <td>460</td>\n",
       "    </tr>\n",
       "    <tr>\n",
       "      <th>Geography</th>\n",
       "      <td>0</td>\n",
       "      <td>0.0</td>\n",
       "      <td>object</td>\n",
       "      <td>3</td>\n",
       "    </tr>\n",
       "    <tr>\n",
       "      <th>Gender</th>\n",
       "      <td>0</td>\n",
       "      <td>0.0</td>\n",
       "      <td>object</td>\n",
       "      <td>2</td>\n",
       "    </tr>\n",
       "    <tr>\n",
       "      <th>Age</th>\n",
       "      <td>0</td>\n",
       "      <td>0.0</td>\n",
       "      <td>int64</td>\n",
       "      <td>70</td>\n",
       "    </tr>\n",
       "    <tr>\n",
       "      <th>Tenure</th>\n",
       "      <td>0</td>\n",
       "      <td>0.0</td>\n",
       "      <td>int64</td>\n",
       "      <td>11</td>\n",
       "    </tr>\n",
       "    <tr>\n",
       "      <th>Balance</th>\n",
       "      <td>0</td>\n",
       "      <td>0.0</td>\n",
       "      <td>float64</td>\n",
       "      <td>6382</td>\n",
       "    </tr>\n",
       "    <tr>\n",
       "      <th>NumOfProducts</th>\n",
       "      <td>0</td>\n",
       "      <td>0.0</td>\n",
       "      <td>int64</td>\n",
       "      <td>4</td>\n",
       "    </tr>\n",
       "    <tr>\n",
       "      <th>HasCrCard</th>\n",
       "      <td>0</td>\n",
       "      <td>0.0</td>\n",
       "      <td>int64</td>\n",
       "      <td>2</td>\n",
       "    </tr>\n",
       "    <tr>\n",
       "      <th>IsActiveMember</th>\n",
       "      <td>0</td>\n",
       "      <td>0.0</td>\n",
       "      <td>int64</td>\n",
       "      <td>2</td>\n",
       "    </tr>\n",
       "    <tr>\n",
       "      <th>EstimatedSalary</th>\n",
       "      <td>0</td>\n",
       "      <td>0.0</td>\n",
       "      <td>float64</td>\n",
       "      <td>9999</td>\n",
       "    </tr>\n",
       "    <tr>\n",
       "      <th>Exited</th>\n",
       "      <td>0</td>\n",
       "      <td>0.0</td>\n",
       "      <td>int64</td>\n",
       "      <td>2</td>\n",
       "    </tr>\n",
       "  </tbody>\n",
       "</table>\n",
       "</div>"
      ],
      "text/plain": [
       "                 TotalMissing  %Missing DataType  Unique\n",
       "RowNumber                   0       0.0    int64   10000\n",
       "CustomerId                  0       0.0    int64   10000\n",
       "Surname                     0       0.0   object    2932\n",
       "CreditScore                 0       0.0    int64     460\n",
       "Geography                   0       0.0   object       3\n",
       "Gender                      0       0.0   object       2\n",
       "Age                         0       0.0    int64      70\n",
       "Tenure                      0       0.0    int64      11\n",
       "Balance                     0       0.0  float64    6382\n",
       "NumOfProducts               0       0.0    int64       4\n",
       "HasCrCard                   0       0.0    int64       2\n",
       "IsActiveMember              0       0.0    int64       2\n",
       "EstimatedSalary             0       0.0  float64    9999\n",
       "Exited                      0       0.0    int64       2"
      ]
     },
     "execution_count": 8,
     "metadata": {},
     "output_type": "execute_result"
    }
   ],
   "source": [
    "pd.DataFrame({\"TotalMissing\":dataset.isna().sum(),\"%Missing\":dataset.isna().mean(),\"DataType\":dataset.dtypes,\"Unique\":dataset.nunique()})"
   ]
  },
  {
   "cell_type": "code",
   "execution_count": null,
   "metadata": {},
   "outputs": [],
   "source": [
    "# Listing all column names"
   ]
  },
  {
   "cell_type": "code",
   "execution_count": 9,
   "metadata": {},
   "outputs": [
    {
     "data": {
      "text/plain": [
       "Index(['RowNumber', 'CustomerId', 'Surname', 'CreditScore', 'Geography',\n",
       "       'Gender', 'Age', 'Tenure', 'Balance', 'NumOfProducts', 'HasCrCard',\n",
       "       'IsActiveMember', 'EstimatedSalary', 'Exited'],\n",
       "      dtype='object')"
      ]
     },
     "execution_count": 9,
     "metadata": {},
     "output_type": "execute_result"
    }
   ],
   "source": [
    "dataset.columns"
   ]
  },
  {
   "cell_type": "code",
   "execution_count": null,
   "metadata": {},
   "outputs": [],
   "source": [
    "# Basic stats value"
   ]
  },
  {
   "cell_type": "code",
   "execution_count": 10,
   "metadata": {},
   "outputs": [
    {
     "data": {
      "text/html": [
       "<div>\n",
       "<style scoped>\n",
       "    .dataframe tbody tr th:only-of-type {\n",
       "        vertical-align: middle;\n",
       "    }\n",
       "\n",
       "    .dataframe tbody tr th {\n",
       "        vertical-align: top;\n",
       "    }\n",
       "\n",
       "    .dataframe thead th {\n",
       "        text-align: right;\n",
       "    }\n",
       "</style>\n",
       "<table border=\"1\" class=\"dataframe\">\n",
       "  <thead>\n",
       "    <tr style=\"text-align: right;\">\n",
       "      <th></th>\n",
       "      <th>RowNumber</th>\n",
       "      <th>CustomerId</th>\n",
       "      <th>CreditScore</th>\n",
       "      <th>Age</th>\n",
       "      <th>Tenure</th>\n",
       "      <th>Balance</th>\n",
       "      <th>NumOfProducts</th>\n",
       "      <th>HasCrCard</th>\n",
       "      <th>IsActiveMember</th>\n",
       "      <th>EstimatedSalary</th>\n",
       "      <th>Exited</th>\n",
       "    </tr>\n",
       "  </thead>\n",
       "  <tbody>\n",
       "    <tr>\n",
       "      <th>count</th>\n",
       "      <td>10000.00000</td>\n",
       "      <td>1.000000e+04</td>\n",
       "      <td>10000.000000</td>\n",
       "      <td>10000.000000</td>\n",
       "      <td>10000.000000</td>\n",
       "      <td>10000.000000</td>\n",
       "      <td>10000.000000</td>\n",
       "      <td>10000.00000</td>\n",
       "      <td>10000.000000</td>\n",
       "      <td>10000.000000</td>\n",
       "      <td>10000.000000</td>\n",
       "    </tr>\n",
       "    <tr>\n",
       "      <th>mean</th>\n",
       "      <td>5000.50000</td>\n",
       "      <td>1.569094e+07</td>\n",
       "      <td>650.528800</td>\n",
       "      <td>38.921800</td>\n",
       "      <td>5.012800</td>\n",
       "      <td>76485.889288</td>\n",
       "      <td>1.530200</td>\n",
       "      <td>0.70550</td>\n",
       "      <td>0.515100</td>\n",
       "      <td>100090.239881</td>\n",
       "      <td>0.203700</td>\n",
       "    </tr>\n",
       "    <tr>\n",
       "      <th>std</th>\n",
       "      <td>2886.89568</td>\n",
       "      <td>7.193619e+04</td>\n",
       "      <td>96.653299</td>\n",
       "      <td>10.487806</td>\n",
       "      <td>2.892174</td>\n",
       "      <td>62397.405202</td>\n",
       "      <td>0.581654</td>\n",
       "      <td>0.45584</td>\n",
       "      <td>0.499797</td>\n",
       "      <td>57510.492818</td>\n",
       "      <td>0.402769</td>\n",
       "    </tr>\n",
       "    <tr>\n",
       "      <th>min</th>\n",
       "      <td>1.00000</td>\n",
       "      <td>1.556570e+07</td>\n",
       "      <td>350.000000</td>\n",
       "      <td>18.000000</td>\n",
       "      <td>0.000000</td>\n",
       "      <td>0.000000</td>\n",
       "      <td>1.000000</td>\n",
       "      <td>0.00000</td>\n",
       "      <td>0.000000</td>\n",
       "      <td>11.580000</td>\n",
       "      <td>0.000000</td>\n",
       "    </tr>\n",
       "    <tr>\n",
       "      <th>25%</th>\n",
       "      <td>2500.75000</td>\n",
       "      <td>1.562853e+07</td>\n",
       "      <td>584.000000</td>\n",
       "      <td>32.000000</td>\n",
       "      <td>3.000000</td>\n",
       "      <td>0.000000</td>\n",
       "      <td>1.000000</td>\n",
       "      <td>0.00000</td>\n",
       "      <td>0.000000</td>\n",
       "      <td>51002.110000</td>\n",
       "      <td>0.000000</td>\n",
       "    </tr>\n",
       "    <tr>\n",
       "      <th>50%</th>\n",
       "      <td>5000.50000</td>\n",
       "      <td>1.569074e+07</td>\n",
       "      <td>652.000000</td>\n",
       "      <td>37.000000</td>\n",
       "      <td>5.000000</td>\n",
       "      <td>97198.540000</td>\n",
       "      <td>1.000000</td>\n",
       "      <td>1.00000</td>\n",
       "      <td>1.000000</td>\n",
       "      <td>100193.915000</td>\n",
       "      <td>0.000000</td>\n",
       "    </tr>\n",
       "    <tr>\n",
       "      <th>75%</th>\n",
       "      <td>7500.25000</td>\n",
       "      <td>1.575323e+07</td>\n",
       "      <td>718.000000</td>\n",
       "      <td>44.000000</td>\n",
       "      <td>7.000000</td>\n",
       "      <td>127644.240000</td>\n",
       "      <td>2.000000</td>\n",
       "      <td>1.00000</td>\n",
       "      <td>1.000000</td>\n",
       "      <td>149388.247500</td>\n",
       "      <td>0.000000</td>\n",
       "    </tr>\n",
       "    <tr>\n",
       "      <th>max</th>\n",
       "      <td>10000.00000</td>\n",
       "      <td>1.581569e+07</td>\n",
       "      <td>850.000000</td>\n",
       "      <td>92.000000</td>\n",
       "      <td>10.000000</td>\n",
       "      <td>250898.090000</td>\n",
       "      <td>4.000000</td>\n",
       "      <td>1.00000</td>\n",
       "      <td>1.000000</td>\n",
       "      <td>199992.480000</td>\n",
       "      <td>1.000000</td>\n",
       "    </tr>\n",
       "  </tbody>\n",
       "</table>\n",
       "</div>"
      ],
      "text/plain": [
       "         RowNumber    CustomerId   CreditScore           Age        Tenure  \\\n",
       "count  10000.00000  1.000000e+04  10000.000000  10000.000000  10000.000000   \n",
       "mean    5000.50000  1.569094e+07    650.528800     38.921800      5.012800   \n",
       "std     2886.89568  7.193619e+04     96.653299     10.487806      2.892174   \n",
       "min        1.00000  1.556570e+07    350.000000     18.000000      0.000000   \n",
       "25%     2500.75000  1.562853e+07    584.000000     32.000000      3.000000   \n",
       "50%     5000.50000  1.569074e+07    652.000000     37.000000      5.000000   \n",
       "75%     7500.25000  1.575323e+07    718.000000     44.000000      7.000000   \n",
       "max    10000.00000  1.581569e+07    850.000000     92.000000     10.000000   \n",
       "\n",
       "             Balance  NumOfProducts    HasCrCard  IsActiveMember  \\\n",
       "count   10000.000000   10000.000000  10000.00000    10000.000000   \n",
       "mean    76485.889288       1.530200      0.70550        0.515100   \n",
       "std     62397.405202       0.581654      0.45584        0.499797   \n",
       "min         0.000000       1.000000      0.00000        0.000000   \n",
       "25%         0.000000       1.000000      0.00000        0.000000   \n",
       "50%     97198.540000       1.000000      1.00000        1.000000   \n",
       "75%    127644.240000       2.000000      1.00000        1.000000   \n",
       "max    250898.090000       4.000000      1.00000        1.000000   \n",
       "\n",
       "       EstimatedSalary        Exited  \n",
       "count     10000.000000  10000.000000  \n",
       "mean     100090.239881      0.203700  \n",
       "std       57510.492818      0.402769  \n",
       "min          11.580000      0.000000  \n",
       "25%       51002.110000      0.000000  \n",
       "50%      100193.915000      0.000000  \n",
       "75%      149388.247500      0.000000  \n",
       "max      199992.480000      1.000000  "
      ]
     },
     "execution_count": 10,
     "metadata": {},
     "output_type": "execute_result"
    }
   ],
   "source": [
    "dataset.describe()"
   ]
  },
  {
   "cell_type": "code",
   "execution_count": null,
   "metadata": {},
   "outputs": [],
   "source": [
    "# Exploratory Data Analysis"
   ]
  },
  {
   "cell_type": "code",
   "execution_count": null,
   "metadata": {},
   "outputs": [],
   "source": [
    "# Lets see our target column distribution"
   ]
  },
  {
   "cell_type": "code",
   "execution_count": 8,
   "metadata": {},
   "outputs": [
    {
     "data": {
      "image/png": "[encoded data removed]",
      "text/plain": [
       "<Figure size 432x288 with 1 Axes>"
      ]
     },
     "metadata": {
      "needs_background": "light"
     },
     "output_type": "display_data"
    }
   ],
   "source": [
    "fig=sns.countplot(x=dataset[\"Exited\"])\n",
    "for i in fig.patches:\n",
    "    fig.annotate(i.get_height(),(i.get_x(),i.get_height()))"
   ]
  },
  {
   "cell_type": "code",
   "execution_count": null,
   "metadata": {},
   "outputs": [],
   "source": [
    "# Lets see how gender affect the target column"
   ]
  },
  {
   "cell_type": "code",
   "execution_count": 10,
   "metadata": {},
   "outputs": [
    {
     "data": {
      "text/plain": [
       "<matplotlib.axes._subplots.AxesSubplot at 0x1633e590c88>"
      ]
     },
     "execution_count": 10,
     "metadata": {},
     "output_type": "execute_result"
    },
    {
     "data": {
      "image/png": "[encoded data removed]",
      "text/plain": [
       "<Figure size 432x288 with 1 Axes>"
      ]
     },
     "metadata": {
      "needs_background": "light"
     },
     "output_type": "display_data"
    }
   ],
   "source": [
    "sns.countplot(x=\"Exited\",hue=\"Gender\",data=dataset)"
   ]
  },
  {
   "cell_type": "code",
   "execution_count": null,
   "metadata": {},
   "outputs": [],
   "source": [
    "'''\n",
    "More females have exited then male\n",
    "'''"
   ]
  },
  {
   "cell_type": "code",
   "execution_count": null,
   "metadata": {},
   "outputs": [],
   "source": [
    "# Lets see whether geography has an impact on target"
   ]
  },
  {
   "cell_type": "code",
   "execution_count": 11,
   "metadata": {},
   "outputs": [
    {
     "data": {
      "text/plain": [
       "<matplotlib.axes._subplots.AxesSubplot at 0x1633c44ed68>"
      ]
     },
     "execution_count": 11,
     "metadata": {},
     "output_type": "execute_result"
    },
    {
     "data": {
      "image/png": "[encoded data removed]",
      "text/plain": [
       "<Figure size 432x288 with 1 Axes>"
      ]
     },
     "metadata": {
      "needs_background": "light"
     },
     "output_type": "display_data"
    }
   ],
   "source": [
    "sns.countplot(x=\"Exited\",hue=\"Geography\",data=dataset)"
   ]
  },
  {
   "cell_type": "code",
   "execution_count": null,
   "metadata": {},
   "outputs": [],
   "source": [
    "# Like this we can find relationship by plotting graphs "
   ]
  },
  {
   "cell_type": "code",
   "execution_count": null,
   "metadata": {},
   "outputs": [],
   "source": [
    "# Data Processing"
   ]
  },
  {
   "cell_type": "code",
   "execution_count": null,
   "metadata": {},
   "outputs": [],
   "source": [
    "# As we can infer from just eyeballing the dataset that first 3 columns are not useful, dropping them from consideration"
   ]
  },
  {
   "cell_type": "code",
   "execution_count": 13,
   "metadata": {},
   "outputs": [],
   "source": [
    "dataset.drop([\"RowNumber\",\"CustomerId\",\"Surname\"],axis=1,inplace=True)"
   ]
  },
  {
   "cell_type": "code",
   "execution_count": null,
   "metadata": {},
   "outputs": [],
   "source": [
    "# Converting all object datatype varibale to int"
   ]
  },
  {
   "cell_type": "code",
   "execution_count": 17,
   "metadata": {},
   "outputs": [],
   "source": [
    "le=LabelEncoder()\n",
    "dataset[\"Gender\"]=le.fit_transform(dataset[\"Gender\"])\n",
    "dataset[\"Geography\"]=le.fit_transform(dataset[\"Geography\"])"
   ]
  },
  {
   "cell_type": "code",
   "execution_count": null,
   "metadata": {},
   "outputs": [],
   "source": [
    "# Lets look at the dataset"
   ]
  },
  {
   "cell_type": "code",
   "execution_count": 19,
   "metadata": {},
   "outputs": [
    {
     "data": {
      "text/html": [
       "<div>\n",
       "<style scoped>\n",
       "    .dataframe tbody tr th:only-of-type {\n",
       "        vertical-align: middle;\n",
       "    }\n",
       "\n",
       "    .dataframe tbody tr th {\n",
       "        vertical-align: top;\n",
       "    }\n",
       "\n",
       "    .dataframe thead th {\n",
       "        text-align: right;\n",
       "    }\n",
       "</style>\n",
       "<table border=\"1\" class=\"dataframe\">\n",
       "  <thead>\n",
       "    <tr style=\"text-align: right;\">\n",
       "      <th></th>\n",
       "      <th>CreditScore</th>\n",
       "      <th>Geography</th>\n",
       "      <th>Gender</th>\n",
       "      <th>Age</th>\n",
       "      <th>Tenure</th>\n",
       "      <th>Balance</th>\n",
       "      <th>NumOfProducts</th>\n",
       "      <th>HasCrCard</th>\n",
       "      <th>IsActiveMember</th>\n",
       "      <th>EstimatedSalary</th>\n",
       "      <th>Exited</th>\n",
       "    </tr>\n",
       "  </thead>\n",
       "  <tbody>\n",
       "    <tr>\n",
       "      <th>0</th>\n",
       "      <td>619</td>\n",
       "      <td>0</td>\n",
       "      <td>0</td>\n",
       "      <td>42</td>\n",
       "      <td>2</td>\n",
       "      <td>0.00</td>\n",
       "      <td>1</td>\n",
       "      <td>1</td>\n",
       "      <td>1</td>\n",
       "      <td>101348.88</td>\n",
       "      <td>1</td>\n",
       "    </tr>\n",
       "    <tr>\n",
       "      <th>1</th>\n",
       "      <td>608</td>\n",
       "      <td>2</td>\n",
       "      <td>0</td>\n",
       "      <td>41</td>\n",
       "      <td>1</td>\n",
       "      <td>83807.86</td>\n",
       "      <td>1</td>\n",
       "      <td>0</td>\n",
       "      <td>1</td>\n",
       "      <td>112542.58</td>\n",
       "      <td>0</td>\n",
       "    </tr>\n",
       "    <tr>\n",
       "      <th>2</th>\n",
       "      <td>502</td>\n",
       "      <td>0</td>\n",
       "      <td>0</td>\n",
       "      <td>42</td>\n",
       "      <td>8</td>\n",
       "      <td>159660.80</td>\n",
       "      <td>3</td>\n",
       "      <td>1</td>\n",
       "      <td>0</td>\n",
       "      <td>113931.57</td>\n",
       "      <td>1</td>\n",
       "    </tr>\n",
       "  </tbody>\n",
       "</table>\n",
       "</div>"
      ],
      "text/plain": [
       "   CreditScore  Geography  Gender  Age  Tenure    Balance  NumOfProducts  \\\n",
       "0          619          0       0   42       2       0.00              1   \n",
       "1          608          2       0   41       1   83807.86              1   \n",
       "2          502          0       0   42       8  159660.80              3   \n",
       "\n",
       "   HasCrCard  IsActiveMember  EstimatedSalary  Exited  \n",
       "0          1               1        101348.88       1  \n",
       "1          0               1        112542.58       0  \n",
       "2          1               0        113931.57       1  "
      ]
     },
     "execution_count": 19,
     "metadata": {},
     "output_type": "execute_result"
    }
   ],
   "source": [
    "dataset.head(3)"
   ]
  },
  {
   "cell_type": "code",
   "execution_count": null,
   "metadata": {},
   "outputs": [],
   "source": [
    "# Lets divide our dataset into dependent and independent dataset"
   ]
  },
  {
   "cell_type": "code",
   "execution_count": 31,
   "metadata": {},
   "outputs": [],
   "source": [
    "y=dataset[\"Exited\"]\n",
    "x=dataset.drop(\"Exited\",axis=1)"
   ]
  },
  {
   "cell_type": "code",
   "execution_count": null,
   "metadata": {},
   "outputs": [],
   "source": [
    "# Train test split"
   ]
  },
  {
   "cell_type": "code",
   "execution_count": 32,
   "metadata": {},
   "outputs": [],
   "source": [
    "x_train,x_test,y_train,y_test=train_test_split(x,y,test_size=0.3,random_state=42)"
   ]
  },
  {
   "cell_type": "code",
   "execution_count": null,
   "metadata": {},
   "outputs": [],
   "source": [
    "# Lets see the shape of splitted dataset"
   ]
  },
  {
   "cell_type": "code",
   "execution_count": 33,
   "metadata": {},
   "outputs": [
    {
     "name": "stdout",
     "output_type": "stream",
     "text": [
      "shape of x_train: (7000, 10)\n",
      "shape of y_train: (7000,)\n",
      "shape of x_test: (3000, 10)\n",
      "shape of y_test: (3000,)\n"
     ]
    }
   ],
   "source": [
    "print(\"shape of x_train:\",x_train.shape)\n",
    "print(\"shape of y_train:\",y_train.shape)\n",
    "print(\"shape of x_test:\",x_test.shape)\n",
    "print(\"shape of y_test:\",y_test.shape)"
   ]
  },
  {
   "cell_type": "code",
   "execution_count": null,
   "metadata": {},
   "outputs": [],
   "source": [
    "# Feature scaling"
   ]
  },
  {
   "cell_type": "code",
   "execution_count": 38,
   "metadata": {},
   "outputs": [],
   "source": [
    "from sklearn.preprocessing import StandardScaler"
   ]
  },
  {
   "cell_type": "code",
   "execution_count": 39,
   "metadata": {},
   "outputs": [],
   "source": [
    "sc=StandardScaler()\n",
    "x_train=sc.fit_transform(x_train)\n",
    "x_test=sc.transform(x_test)"
   ]
  },
  {
   "cell_type": "code",
   "execution_count": null,
   "metadata": {},
   "outputs": [],
   "source": [
    "# Lets make ANN"
   ]
  },
  {
   "cell_type": "code",
   "execution_count": null,
   "metadata": {},
   "outputs": [],
   "source": [
    "# Importing required libraries "
   ]
  },
  {
   "cell_type": "code",
   "execution_count": 40,
   "metadata": {},
   "outputs": [
    {
     "name": "stderr",
     "output_type": "stream",
     "text": [
      "Using TensorFlow backend.\n"
     ]
    }
   ],
   "source": [
    "import keras\n",
    "from keras.models import Sequential # responsible for creating NN\n",
    "from keras.layers import Dense  # to create hidden layers\n",
    "from keras.layers import Dropout \n",
    "# Dropout is a regularization parameter,used when NN is quiet deep "
   ]
  },
  {
   "cell_type": "code",
   "execution_count": null,
   "metadata": {},
   "outputs": [],
   "source": [
    "# Initialising the ANN"
   ]
  },
  {
   "cell_type": "code",
   "execution_count": 41,
   "metadata": {},
   "outputs": [],
   "source": [
    "classifier=Sequential()\n",
    "# This will create an empty NN"
   ]
  },
  {
   "cell_type": "code",
   "execution_count": null,
   "metadata": {},
   "outputs": [],
   "source": [
    "# adding input layer and first hiddden layer"
   ]
  },
  {
   "cell_type": "code",
   "execution_count": 42,
   "metadata": {},
   "outputs": [],
   "source": [
    "classifier.add(Dense(units=6,kernel_initializer=\"he_uniform\",activation=\"relu\",input_dim=10))"
   ]
  },
  {
   "cell_type": "code",
   "execution_count": null,
   "metadata": {},
   "outputs": [],
   "source": [
    "# Dense: to create first hidden layer\n",
    "# units: in first hidden layer 6 neurons\n",
    "# kernel_initializer: how weights should be initialized,whenever we use relu activation\n",
    "# weight initializer he_uniform and he_normal works well\n",
    "# input_dim: relates to input variables\n",
    "# all hidden layers should contain relu or leaky relu as activation function\n",
    "# relu prevents vanishing gradient descent problem issues as compared to sigmoid"
   ]
  },
  {
   "cell_type": "code",
   "execution_count": null,
   "metadata": {},
   "outputs": [],
   "source": [
    "# creating second hidden layers"
   ]
  },
  {
   "cell_type": "code",
   "execution_count": 43,
   "metadata": {},
   "outputs": [],
   "source": [
    "classifier.add(Dense(units=6,kernel_initializer=\"he_uniform\",activation=\"relu\"))"
   ]
  },
  {
   "cell_type": "code",
   "execution_count": null,
   "metadata": {},
   "outputs": [],
   "source": [
    "# adding the output layers"
   ]
  },
  {
   "cell_type": "code",
   "execution_count": 44,
   "metadata": {},
   "outputs": [],
   "source": [
    "classifier.add(Dense(units=1,kernel_initializer=\"glorot_uniform\",activation=\"sigmoid\"))"
   ]
  },
  {
   "cell_type": "code",
   "execution_count": null,
   "metadata": {},
   "outputs": [],
   "source": [
    "# units: only one output layer as this is binary classification problem,if it value\n",
    "# comes greater than 0.5 then answer will be 1\n",
    "# activation: sigmoid will convert values to 0 and 1 its derivative lies b/w 0-0.25"
   ]
  },
  {
   "cell_type": "code",
   "execution_count": null,
   "metadata": {},
   "outputs": [],
   "source": [
    "# summary of model"
   ]
  },
  {
   "cell_type": "code",
   "execution_count": 45,
   "metadata": {},
   "outputs": [
    {
     "name": "stdout",
     "output_type": "stream",
     "text": [
      "Model: \"sequential_1\"\n",
      "_________________________________________________________________\n",
      "Layer (type)                 Output Shape              Param #   \n",
      "=================================================================\n",
      "dense_1 (Dense)              (None, 6)                 66        \n",
      "_________________________________________________________________\n",
      "dense_2 (Dense)              (None, 6)                 42        \n",
      "_________________________________________________________________\n",
      "dense_3 (Dense)              (None, 1)                 7         \n",
      "=================================================================\n",
      "Total params: 115\n",
      "Trainable params: 115\n",
      "Non-trainable params: 0\n",
      "_________________________________________________________________\n"
     ]
    }
   ],
   "source": [
    "classifier.summary()"
   ]
  },
  {
   "cell_type": "code",
   "execution_count": null,
   "metadata": {},
   "outputs": [],
   "source": [
    "# compile the ANN"
   ]
  },
  {
   "cell_type": "code",
   "execution_count": 46,
   "metadata": {},
   "outputs": [
    {
     "name": "stdout",
     "output_type": "stream",
     "text": [
      "WARNING:tensorflow:From c:\\users\\acer\\appdata\\local\\programs\\python\\python36\\lib\\site-packages\\tensorflow_core\\python\\ops\\nn_impl.py:183: where (from tensorflow.python.ops.array_ops) is deprecated and will be removed in a future version.\n",
      "Instructions for updating:\n",
      "Use tf.where in 2.0, which has the same broadcast rule as np.where\n"
     ]
    }
   ],
   "source": [
    "classifier.compile(optimizer=\"adam\",loss=\"binary_crossentropy\",metrics=[\"accuracy\"])"
   ]
  },
  {
   "cell_type": "code",
   "execution_count": null,
   "metadata": {},
   "outputs": [],
   "source": [
    "# fitting the ann to the training set"
   ]
  },
  {
   "cell_type": "code",
   "execution_count": 47,
   "metadata": {},
   "outputs": [
    {
     "name": "stdout",
     "output_type": "stream",
     "text": [
      "Train on 4689 samples, validate on 2311 samples\n",
      "Epoch 1/100\n",
      "4689/4689 [==============================] - 4s 755us/step - loss: 0.5394 - accuracy: 0.7795 - val_loss: 0.5146 - val_accuracy: 0.7893\n",
      "Epoch 2/100\n",
      "4689/4689 [==============================] - 2s 460us/step - loss: 0.4860 - accuracy: 0.7940 - val_loss: 0.4863 - val_accuracy: 0.7893\n",
      "Epoch 3/100\n",
      "4689/4689 [==============================] - 1s 300us/step - loss: 0.4645 - accuracy: 0.7940 - val_loss: 0.4684 - val_accuracy: 0.7893\n",
      "Epoch 4/100\n",
      "4689/4689 [==============================] - 1s 284us/step - loss: 0.4506 - accuracy: 0.7940 - val_loss: 0.4558 - val_accuracy: 0.7893\n",
      "Epoch 5/100\n",
      "4689/4689 [==============================] - 2s 427us/step - loss: 0.4417 - accuracy: 0.7936 - val_loss: 0.4491 - val_accuracy: 0.7927\n",
      "Epoch 6/100\n",
      "4689/4689 [==============================] - 2s 461us/step - loss: 0.4355 - accuracy: 0.7970 - val_loss: 0.4434 - val_accuracy: 0.8005\n",
      "Epoch 7/100\n",
      "4689/4689 [==============================] - 2s 342us/step - loss: 0.4298 - accuracy: 0.8034 - val_loss: 0.4377 - val_accuracy: 0.8126\n",
      "Epoch 8/100\n",
      "4689/4689 [==============================] - 2s 472us/step - loss: 0.4222 - accuracy: 0.8140 - val_loss: 0.4291 - val_accuracy: 0.8152\n",
      "Epoch 9/100\n",
      "4689/4689 [==============================] - 3s 564us/step - loss: 0.4111 - accuracy: 0.8234 - val_loss: 0.4180 - val_accuracy: 0.8213\n",
      "Epoch 10/100\n",
      "4689/4689 [==============================] - 2s 440us/step - loss: 0.3980 - accuracy: 0.8281 - val_loss: 0.4071 - val_accuracy: 0.8308\n",
      "Epoch 11/100\n",
      "4689/4689 [==============================] - 3s 592us/step - loss: 0.3871 - accuracy: 0.8347 - val_loss: 0.3984 - val_accuracy: 0.8321\n",
      "Epoch 12/100\n",
      "4689/4689 [==============================] - 3s 568us/step - loss: 0.3780 - accuracy: 0.8413 - val_loss: 0.3908 - val_accuracy: 0.8386\n",
      "Epoch 13/100\n",
      "4689/4689 [==============================] - 2s 344us/step - loss: 0.3705 - accuracy: 0.8454 - val_loss: 0.3839 - val_accuracy: 0.8408\n",
      "Epoch 14/100\n",
      "4689/4689 [==============================] - 3s 536us/step - loss: 0.3641 - accuracy: 0.8492 - val_loss: 0.3797 - val_accuracy: 0.8412\n",
      "Epoch 15/100\n",
      "4689/4689 [==============================] - 3s 563us/step - loss: 0.3598 - accuracy: 0.8501 - val_loss: 0.3756 - val_accuracy: 0.8434\n",
      "Epoch 16/100\n",
      "4689/4689 [==============================] - 3s 578us/step - loss: 0.3561 - accuracy: 0.8531 - val_loss: 0.3739 - val_accuracy: 0.8455\n",
      "Epoch 17/100\n",
      "4689/4689 [==============================] - 3s 540us/step - loss: 0.3528 - accuracy: 0.8539 - val_loss: 0.3713 - val_accuracy: 0.8490\n",
      "Epoch 18/100\n",
      "4689/4689 [==============================] - 3s 572us/step - loss: 0.3505 - accuracy: 0.8552 - val_loss: 0.3694 - val_accuracy: 0.8494\n",
      "Epoch 19/100\n",
      "4689/4689 [==============================] - 3s 571us/step - loss: 0.3488 - accuracy: 0.8584 - val_loss: 0.3679 - val_accuracy: 0.8490\n",
      "Epoch 20/100\n",
      "4689/4689 [==============================] - 1s 302us/step - loss: 0.3473 - accuracy: 0.8590 - val_loss: 0.3685 - val_accuracy: 0.8490\n",
      "Epoch 21/100\n",
      "4689/4689 [==============================] - 2s 406us/step - loss: 0.3459 - accuracy: 0.8595 - val_loss: 0.3663 - val_accuracy: 0.8498\n",
      "Epoch 22/100\n",
      "4689/4689 [==============================] - 3s 576us/step - loss: 0.3451 - accuracy: 0.8578 - val_loss: 0.3647 - val_accuracy: 0.8477\n",
      "Epoch 23/100\n",
      "4689/4689 [==============================] - 3s 578us/step - loss: 0.3443 - accuracy: 0.8597 - val_loss: 0.3645 - val_accuracy: 0.8490\n",
      "Epoch 24/100\n",
      "4689/4689 [==============================] - 3s 550us/step - loss: 0.3436 - accuracy: 0.8597 - val_loss: 0.3636 - val_accuracy: 0.8494\n",
      "Epoch 25/100\n",
      "4689/4689 [==============================] - 3s 557us/step - loss: 0.3429 - accuracy: 0.8597 - val_loss: 0.3652 - val_accuracy: 0.8464\n",
      "Epoch 26/100\n",
      "4689/4689 [==============================] - 3s 566us/step - loss: 0.3418 - accuracy: 0.8610 - val_loss: 0.3655 - val_accuracy: 0.8486\n",
      "Epoch 27/100\n",
      "4689/4689 [==============================] - 2s 497us/step - loss: 0.3407 - accuracy: 0.8603 - val_loss: 0.3639 - val_accuracy: 0.8477\n",
      "Epoch 28/100\n",
      "4689/4689 [==============================] - 3s 553us/step - loss: 0.3408 - accuracy: 0.8595 - val_loss: 0.3631 - val_accuracy: 0.8486\n",
      "Epoch 29/100\n",
      "4689/4689 [==============================] - 3s 555us/step - loss: 0.3405 - accuracy: 0.8607 - val_loss: 0.3631 - val_accuracy: 0.8486\n",
      "Epoch 30/100\n",
      "4689/4689 [==============================] - 2s 478us/step - loss: 0.3400 - accuracy: 0.8605 - val_loss: 0.3627 - val_accuracy: 0.8481\n",
      "Epoch 31/100\n",
      "4689/4689 [==============================] - 2s 500us/step - loss: 0.3397 - accuracy: 0.8610 - val_loss: 0.3634 - val_accuracy: 0.8486\n",
      "Epoch 32/100\n",
      "4689/4689 [==============================] - 2s 518us/step - loss: 0.3391 - accuracy: 0.8616 - val_loss: 0.3630 - val_accuracy: 0.8490\n",
      "Epoch 33/100\n",
      "4689/4689 [==============================] - 1s 306us/step - loss: 0.3387 - accuracy: 0.8607 - val_loss: 0.3635 - val_accuracy: 0.8473\n",
      "Epoch 34/100\n",
      "4689/4689 [==============================] - 3s 556us/step - loss: 0.3381 - accuracy: 0.8612 - val_loss: 0.3621 - val_accuracy: 0.8486\n",
      "Epoch 35/100\n",
      "4689/4689 [==============================] - 2s 391us/step - loss: 0.3378 - accuracy: 0.8612 - val_loss: 0.3625 - val_accuracy: 0.8503\n",
      "Epoch 36/100\n",
      "4689/4689 [==============================] - 2s 503us/step - loss: 0.3373 - accuracy: 0.8603 - val_loss: 0.3632 - val_accuracy: 0.8477\n",
      "Epoch 37/100\n",
      "4689/4689 [==============================] - 2s 485us/step - loss: 0.3374 - accuracy: 0.8607 - val_loss: 0.3615 - val_accuracy: 0.8490\n",
      "Epoch 38/100\n",
      "4689/4689 [==============================] - 2s 482us/step - loss: 0.3371 - accuracy: 0.8601 - val_loss: 0.3626 - val_accuracy: 0.8477\n",
      "Epoch 39/100\n",
      "4689/4689 [==============================] - 2s 520us/step - loss: 0.3363 - accuracy: 0.8605 - val_loss: 0.3620 - val_accuracy: 0.8490\n",
      "Epoch 40/100\n",
      "4689/4689 [==============================] - 3s 543us/step - loss: 0.3363 - accuracy: 0.8603 - val_loss: 0.3624 - val_accuracy: 0.8473\n",
      "Epoch 41/100\n",
      "4689/4689 [==============================] - 3s 588us/step - loss: 0.3363 - accuracy: 0.8590 - val_loss: 0.3634 - val_accuracy: 0.8498\n",
      "Epoch 42/100\n",
      "4689/4689 [==============================] - 3s 540us/step - loss: 0.3358 - accuracy: 0.8597 - val_loss: 0.3641 - val_accuracy: 0.8490\n",
      "Epoch 43/100\n",
      "4689/4689 [==============================] - 2s 485us/step - loss: 0.3355 - accuracy: 0.8610 - val_loss: 0.3631 - val_accuracy: 0.8503\n",
      "Epoch 44/100\n",
      "4689/4689 [==============================] - 2s 497us/step - loss: 0.3353 - accuracy: 0.8612 - val_loss: 0.3628 - val_accuracy: 0.8503\n",
      "Epoch 45/100\n",
      "4689/4689 [==============================] - 2s 496us/step - loss: 0.3348 - accuracy: 0.8612 - val_loss: 0.3633 - val_accuracy: 0.8516\n",
      "Epoch 46/100\n",
      "4689/4689 [==============================] - 2s 532us/step - loss: 0.3350 - accuracy: 0.8601 - val_loss: 0.3628 - val_accuracy: 0.8486\n",
      "Epoch 47/100\n",
      "4689/4689 [==============================] - 2s 492us/step - loss: 0.3345 - accuracy: 0.8599 - val_loss: 0.3618 - val_accuracy: 0.8507\n",
      "Epoch 48/100\n",
      "4689/4689 [==============================] - 2s 499us/step - loss: 0.3349 - accuracy: 0.8588 - val_loss: 0.3623 - val_accuracy: 0.8511\n",
      "Epoch 49/100\n",
      "4689/4689 [==============================] - 2s 510us/step - loss: 0.3339 - accuracy: 0.8590 - val_loss: 0.3630 - val_accuracy: 0.8511\n",
      "Epoch 50/100\n",
      "4689/4689 [==============================] - 2s 391us/step - loss: 0.3337 - accuracy: 0.8597 - val_loss: 0.3640 - val_accuracy: 0.8503\n",
      "Epoch 51/100\n",
      "4689/4689 [==============================] - 2s 463us/step - loss: 0.3341 - accuracy: 0.8607 - val_loss: 0.3637 - val_accuracy: 0.8511\n",
      "Epoch 52/100\n",
      "4689/4689 [==============================] - 2s 484us/step - loss: 0.3338 - accuracy: 0.8592 - val_loss: 0.3633 - val_accuracy: 0.8503\n",
      "Epoch 53/100\n",
      "4689/4689 [==============================] - 2s 407us/step - loss: 0.3336 - accuracy: 0.8597 - val_loss: 0.3621 - val_accuracy: 0.8507\n",
      "Epoch 54/100\n",
      "4689/4689 [==============================] - 2s 499us/step - loss: 0.3335 - accuracy: 0.8603 - val_loss: 0.3607 - val_accuracy: 0.8524\n",
      "Epoch 55/100\n",
      "4689/4689 [==============================] - 2s 394us/step - loss: 0.3330 - accuracy: 0.8599 - val_loss: 0.3617 - val_accuracy: 0.8516\n",
      "Epoch 56/100\n"
     ]
    },
    {
     "name": "stdout",
     "output_type": "stream",
     "text": [
      "4689/4689 [==============================] - 2s 357us/step - loss: 0.3329 - accuracy: 0.8592 - val_loss: 0.3618 - val_accuracy: 0.8516\n",
      "Epoch 57/100\n",
      "4689/4689 [==============================] - 2s 491us/step - loss: 0.3327 - accuracy: 0.8601 - val_loss: 0.3612 - val_accuracy: 0.8516\n",
      "Epoch 58/100\n",
      "4689/4689 [==============================] - 1s 296us/step - loss: 0.3326 - accuracy: 0.8592 - val_loss: 0.3604 - val_accuracy: 0.8516\n",
      "Epoch 59/100\n",
      "4689/4689 [==============================] - 2s 377us/step - loss: 0.3322 - accuracy: 0.8612 - val_loss: 0.3603 - val_accuracy: 0.8511\n",
      "Epoch 60/100\n",
      "4689/4689 [==============================] - 2s 449us/step - loss: 0.3321 - accuracy: 0.8603 - val_loss: 0.3618 - val_accuracy: 0.8520\n",
      "Epoch 61/100\n",
      "4689/4689 [==============================] - 2s 485us/step - loss: 0.3327 - accuracy: 0.8588 - val_loss: 0.3609 - val_accuracy: 0.8507\n",
      "Epoch 62/100\n",
      "4689/4689 [==============================] - 3s 539us/step - loss: 0.3323 - accuracy: 0.8599 - val_loss: 0.3606 - val_accuracy: 0.8503\n",
      "Epoch 63/100\n",
      "4689/4689 [==============================] - 2s 469us/step - loss: 0.3316 - accuracy: 0.8627 - val_loss: 0.3620 - val_accuracy: 0.8529\n",
      "Epoch 64/100\n",
      "4689/4689 [==============================] - 2s 486us/step - loss: 0.3318 - accuracy: 0.8605 - val_loss: 0.3623 - val_accuracy: 0.8533\n",
      "Epoch 65/100\n",
      "4689/4689 [==============================] - 2s 469us/step - loss: 0.3321 - accuracy: 0.8610 - val_loss: 0.3625 - val_accuracy: 0.8516\n",
      "Epoch 66/100\n",
      "4689/4689 [==============================] - 2s 411us/step - loss: 0.3311 - accuracy: 0.8618 - val_loss: 0.3627 - val_accuracy: 0.8520\n",
      "Epoch 67/100\n",
      "4689/4689 [==============================] - 2s 495us/step - loss: 0.3316 - accuracy: 0.8624 - val_loss: 0.3611 - val_accuracy: 0.8516\n",
      "Epoch 68/100\n",
      "4689/4689 [==============================] - 2s 428us/step - loss: 0.3311 - accuracy: 0.8616 - val_loss: 0.3606 - val_accuracy: 0.8524\n",
      "Epoch 69/100\n",
      "4689/4689 [==============================] - 2s 462us/step - loss: 0.3312 - accuracy: 0.8633 - val_loss: 0.3611 - val_accuracy: 0.8516\n",
      "Epoch 70/100\n",
      "4689/4689 [==============================] - 2s 458us/step - loss: 0.3314 - accuracy: 0.8618 - val_loss: 0.3606 - val_accuracy: 0.8481\n",
      "Epoch 71/100\n",
      "4689/4689 [==============================] - 2s 456us/step - loss: 0.3309 - accuracy: 0.8610 - val_loss: 0.3625 - val_accuracy: 0.8511\n",
      "Epoch 72/100\n",
      "4689/4689 [==============================] - 2s 466us/step - loss: 0.3309 - accuracy: 0.8635 - val_loss: 0.3624 - val_accuracy: 0.8524\n",
      "Epoch 73/100\n",
      "4689/4689 [==============================] - 2s 513us/step - loss: 0.3309 - accuracy: 0.8614 - val_loss: 0.3617 - val_accuracy: 0.8524\n",
      "Epoch 74/100\n",
      "4689/4689 [==============================] - 2s 464us/step - loss: 0.3307 - accuracy: 0.8624 - val_loss: 0.3631 - val_accuracy: 0.8516\n",
      "Epoch 75/100\n",
      "4689/4689 [==============================] - 2s 490us/step - loss: 0.3306 - accuracy: 0.8629 - val_loss: 0.3620 - val_accuracy: 0.8533\n",
      "Epoch 76/100\n",
      "4689/4689 [==============================] - 2s 482us/step - loss: 0.3306 - accuracy: 0.8622 - val_loss: 0.3617 - val_accuracy: 0.8516\n",
      "Epoch 77/100\n",
      "4689/4689 [==============================] - 2s 514us/step - loss: 0.3304 - accuracy: 0.8633 - val_loss: 0.3614 - val_accuracy: 0.8516\n",
      "Epoch 78/100\n",
      "4689/4689 [==============================] - 2s 523us/step - loss: 0.3301 - accuracy: 0.8603 - val_loss: 0.3610 - val_accuracy: 0.8511\n",
      "Epoch 79/100\n",
      "4689/4689 [==============================] - 2s 474us/step - loss: 0.3301 - accuracy: 0.8620 - val_loss: 0.3625 - val_accuracy: 0.8503\n",
      "Epoch 80/100\n",
      "4689/4689 [==============================] - 2s 478us/step - loss: 0.3308 - accuracy: 0.8610 - val_loss: 0.3635 - val_accuracy: 0.8520\n",
      "Epoch 81/100\n",
      "4689/4689 [==============================] - 1s 287us/step - loss: 0.3298 - accuracy: 0.8605 - val_loss: 0.3614 - val_accuracy: 0.8542\n",
      "Epoch 82/100\n",
      "4689/4689 [==============================] - 1s 288us/step - loss: 0.3306 - accuracy: 0.8603 - val_loss: 0.3608 - val_accuracy: 0.8529\n",
      "Epoch 83/100\n",
      "4689/4689 [==============================] - 2s 350us/step - loss: 0.3300 - accuracy: 0.8633 - val_loss: 0.3601 - val_accuracy: 0.8503\n",
      "Epoch 84/100\n",
      "4689/4689 [==============================] - 2s 533us/step - loss: 0.3297 - accuracy: 0.8610 - val_loss: 0.3612 - val_accuracy: 0.8498\n",
      "Epoch 85/100\n",
      "4689/4689 [==============================] - 2s 457us/step - loss: 0.3298 - accuracy: 0.8607 - val_loss: 0.3617 - val_accuracy: 0.8511\n",
      "Epoch 86/100\n",
      "4689/4689 [==============================] - 2s 426us/step - loss: 0.3296 - accuracy: 0.8629 - val_loss: 0.3610 - val_accuracy: 0.8516\n",
      "Epoch 87/100\n",
      "4689/4689 [==============================] - 2s 352us/step - loss: 0.3295 - accuracy: 0.8631 - val_loss: 0.3608 - val_accuracy: 0.8520\n",
      "Epoch 88/100\n",
      "4689/4689 [==============================] - 2s 515us/step - loss: 0.3296 - accuracy: 0.8612 - val_loss: 0.3619 - val_accuracy: 0.8511\n",
      "Epoch 89/100\n",
      "4689/4689 [==============================] - 2s 533us/step - loss: 0.3293 - accuracy: 0.8635 - val_loss: 0.3620 - val_accuracy: 0.8490\n",
      "Epoch 90/100\n",
      "4689/4689 [==============================] - 2s 521us/step - loss: 0.3294 - accuracy: 0.8633 - val_loss: 0.3608 - val_accuracy: 0.8516\n",
      "Epoch 91/100\n",
      "4689/4689 [==============================] - 2s 494us/step - loss: 0.3296 - accuracy: 0.8614 - val_loss: 0.3610 - val_accuracy: 0.8490\n",
      "Epoch 92/100\n",
      "4689/4689 [==============================] - 2s 460us/step - loss: 0.3288 - accuracy: 0.8633 - val_loss: 0.3619 - val_accuracy: 0.8503\n",
      "Epoch 93/100\n",
      "4689/4689 [==============================] - 2s 497us/step - loss: 0.3297 - accuracy: 0.8624 - val_loss: 0.3623 - val_accuracy: 0.8498\n",
      "Epoch 94/100\n",
      "4689/4689 [==============================] - 2s 499us/step - loss: 0.3289 - accuracy: 0.8633 - val_loss: 0.3611 - val_accuracy: 0.8520\n",
      "Epoch 95/100\n",
      "4689/4689 [==============================] - 2s 410us/step - loss: 0.3294 - accuracy: 0.8624 - val_loss: 0.3625 - val_accuracy: 0.8498\n",
      "Epoch 96/100\n",
      "4689/4689 [==============================] - 2s 426us/step - loss: 0.3290 - accuracy: 0.8635 - val_loss: 0.3610 - val_accuracy: 0.8503\n",
      "Epoch 97/100\n",
      "4689/4689 [==============================] - 2s 498us/step - loss: 0.3295 - accuracy: 0.8639 - val_loss: 0.3611 - val_accuracy: 0.8507\n",
      "Epoch 98/100\n",
      "4689/4689 [==============================] - 2s 472us/step - loss: 0.3289 - accuracy: 0.8627 - val_loss: 0.3628 - val_accuracy: 0.8486\n",
      "Epoch 99/100\n",
      "4689/4689 [==============================] - 2s 452us/step - loss: 0.3290 - accuracy: 0.8624 - val_loss: 0.3628 - val_accuracy: 0.8490\n",
      "Epoch 100/100\n",
      "4689/4689 [==============================] - 2s 495us/step - loss: 0.3292 - accuracy: 0.8639 - val_loss: 0.3625 - val_accuracy: 0.8498\n"
     ]
    }
   ],
   "source": [
    "model_history=classifier.fit(x_train,y_train,validation_split=0.33,batch_size=10,epochs=100)"
   ]
  },
  {
   "cell_type": "code",
   "execution_count": null,
   "metadata": {},
   "outputs": [],
   "source": [
    "# validation split= test dataset separately\n",
    "# batch size: should be less so that computation power be less,more number of \n",
    "# records we dont have to load at one time, ram will be free"
   ]
  },
  {
   "cell_type": "code",
   "execution_count": null,
   "metadata": {},
   "outputs": [],
   "source": [
    "# now test it on test dataset"
   ]
  },
  {
   "cell_type": "code",
   "execution_count": 54,
   "metadata": {},
   "outputs": [],
   "source": [
    "y_pred=classifier.predict(x_test)\n",
    "y_pred=(y_pred>0.5)"
   ]
  },
  {
   "cell_type": "code",
   "execution_count": null,
   "metadata": {},
   "outputs": [],
   "source": [
    "# Making confusion matrix"
   ]
  },
  {
   "cell_type": "code",
   "execution_count": 52,
   "metadata": {},
   "outputs": [],
   "source": [
    "from sklearn.metrics import confusion_matrix"
   ]
  },
  {
   "cell_type": "code",
   "execution_count": 55,
   "metadata": {},
   "outputs": [
    {
     "data": {
      "text/plain": [
       "array([[2326,   90],\n",
       "       [ 312,  272]], dtype=int64)"
      ]
     },
     "execution_count": 55,
     "metadata": {},
     "output_type": "execute_result"
    }
   ],
   "source": [
    "confusion_matrix(y_test,y_pred)"
   ]
  },
  {
   "cell_type": "code",
   "execution_count": null,
   "metadata": {},
   "outputs": [],
   "source": [
    "# calculate the accuracy for test dataset"
   ]
  },
  {
   "cell_type": "code",
   "execution_count": 57,
   "metadata": {},
   "outputs": [],
   "source": [
    "from sklearn.metrics import accuracy_score"
   ]
  },
  {
   "cell_type": "code",
   "execution_count": 58,
   "metadata": {},
   "outputs": [
    {
     "name": "stdout",
     "output_type": "stream",
     "text": [
      "0.866\n"
     ]
    }
   ],
   "source": [
    "score=accuracy_score(y_pred,y_test)\n",
    "print(score)"
   ]
  },
  {
   "cell_type": "code",
   "execution_count": null,
   "metadata": {},
   "outputs": [],
   "source": [
    "# Lets use some other activtion func with some more added hidden layers "
   ]
  },
  {
   "cell_type": "code",
   "execution_count": 59,
   "metadata": {},
   "outputs": [
    {
     "name": "stdout",
     "output_type": "stream",
     "text": [
      "Train on 4689 samples, validate on 2311 samples\n",
      "Epoch 1/50\n",
      "4689/4689 [==============================] - 2s 527us/step - loss: 0.5546 - accuracy: 0.7505 - val_loss: 0.4749 - val_accuracy: 0.7997\n",
      "Epoch 2/50\n",
      "4689/4689 [==============================] - 1s 298us/step - loss: 0.4432 - accuracy: 0.8102 - val_loss: 0.4422 - val_accuracy: 0.8079\n",
      "Epoch 3/50\n",
      "4689/4689 [==============================] - 1s 300us/step - loss: 0.4183 - accuracy: 0.8153 - val_loss: 0.4210 - val_accuracy: 0.8209\n",
      "Epoch 4/50\n",
      "4689/4689 [==============================] - 3s 579us/step - loss: 0.3986 - accuracy: 0.8305 - val_loss: 0.4022 - val_accuracy: 0.8356\n",
      "Epoch 5/50\n",
      "4689/4689 [==============================] - 2s 505us/step - loss: 0.3804 - accuracy: 0.8426 - val_loss: 0.3983 - val_accuracy: 0.8343\n",
      "Epoch 6/50\n",
      "4689/4689 [==============================] - 2s 494us/step - loss: 0.3705 - accuracy: 0.8454 - val_loss: 0.3854 - val_accuracy: 0.8390\n",
      "Epoch 7/50\n",
      "4689/4689 [==============================] - 2s 511us/step - loss: 0.3628 - accuracy: 0.8488 - val_loss: 0.3832 - val_accuracy: 0.8386\n",
      "Epoch 8/50\n",
      "4689/4689 [==============================] - 3s 541us/step - loss: 0.3601 - accuracy: 0.8514 - val_loss: 0.3778 - val_accuracy: 0.8399\n",
      "Epoch 9/50\n",
      "4689/4689 [==============================] - 3s 566us/step - loss: 0.3540 - accuracy: 0.8546 - val_loss: 0.3783 - val_accuracy: 0.8412\n",
      "Epoch 10/50\n",
      "4689/4689 [==============================] - 2s 489us/step - loss: 0.3512 - accuracy: 0.8546 - val_loss: 0.3739 - val_accuracy: 0.8421\n",
      "Epoch 11/50\n",
      "4689/4689 [==============================] - 3s 608us/step - loss: 0.3491 - accuracy: 0.8552 - val_loss: 0.3746 - val_accuracy: 0.8425\n",
      "Epoch 12/50\n",
      "4689/4689 [==============================] - 3s 572us/step - loss: 0.3460 - accuracy: 0.8565 - val_loss: 0.3748 - val_accuracy: 0.8447\n",
      "Epoch 13/50\n",
      "4689/4689 [==============================] - 3s 570us/step - loss: 0.3442 - accuracy: 0.8567 - val_loss: 0.3695 - val_accuracy: 0.8451\n",
      "Epoch 14/50\n",
      "4689/4689 [==============================] - 3s 596us/step - loss: 0.3417 - accuracy: 0.8592 - val_loss: 0.3755 - val_accuracy: 0.8460\n",
      "Epoch 15/50\n",
      "4689/4689 [==============================] - 3s 589us/step - loss: 0.3394 - accuracy: 0.8584 - val_loss: 0.3694 - val_accuracy: 0.8468\n",
      "Epoch 16/50\n",
      "4689/4689 [==============================] - 3s 601us/step - loss: 0.3393 - accuracy: 0.8599 - val_loss: 0.3718 - val_accuracy: 0.8455\n",
      "Epoch 17/50\n",
      "4689/4689 [==============================] - 2s 523us/step - loss: 0.3371 - accuracy: 0.8612 - val_loss: 0.3699 - val_accuracy: 0.8481\n",
      "Epoch 18/50\n",
      "4689/4689 [==============================] - 3s 543us/step - loss: 0.3336 - accuracy: 0.8624 - val_loss: 0.3700 - val_accuracy: 0.8460\n",
      "Epoch 19/50\n",
      "4689/4689 [==============================] - 3s 568us/step - loss: 0.3357 - accuracy: 0.8595 - val_loss: 0.3687 - val_accuracy: 0.8503\n",
      "Epoch 20/50\n",
      "4689/4689 [==============================] - 3s 587us/step - loss: 0.3319 - accuracy: 0.8603 - val_loss: 0.3707 - val_accuracy: 0.8460\n",
      "Epoch 21/50\n",
      "4689/4689 [==============================] - 3s 548us/step - loss: 0.3316 - accuracy: 0.8614 - val_loss: 0.3671 - val_accuracy: 0.8503\n",
      "Epoch 22/50\n",
      "4689/4689 [==============================] - 3s 581us/step - loss: 0.3308 - accuracy: 0.8618 - val_loss: 0.3689 - val_accuracy: 0.8442\n",
      "Epoch 23/50\n",
      "4689/4689 [==============================] - 3s 572us/step - loss: 0.3291 - accuracy: 0.8616 - val_loss: 0.3704 - val_accuracy: 0.8494\n",
      "Epoch 24/50\n",
      "4689/4689 [==============================] - 3s 550us/step - loss: 0.3285 - accuracy: 0.8627 - val_loss: 0.3671 - val_accuracy: 0.8494\n",
      "Epoch 25/50\n",
      "4689/4689 [==============================] - 3s 556us/step - loss: 0.3279 - accuracy: 0.8650 - val_loss: 0.3656 - val_accuracy: 0.8481\n",
      "Epoch 26/50\n",
      "4689/4689 [==============================] - 3s 576us/step - loss: 0.3267 - accuracy: 0.8652 - val_loss: 0.3681 - val_accuracy: 0.8498\n",
      "Epoch 27/50\n",
      "4689/4689 [==============================] - 3s 533us/step - loss: 0.3249 - accuracy: 0.8652 - val_loss: 0.3675 - val_accuracy: 0.8486\n",
      "Epoch 28/50\n",
      "4689/4689 [==============================] - 2s 338us/step - loss: 0.3253 - accuracy: 0.8637 - val_loss: 0.3707 - val_accuracy: 0.8494\n",
      "Epoch 29/50\n",
      "4689/4689 [==============================] - 2s 513us/step - loss: 0.3241 - accuracy: 0.8667 - val_loss: 0.3720 - val_accuracy: 0.8494\n",
      "Epoch 30/50\n",
      "4689/4689 [==============================] - 2s 338us/step - loss: 0.3247 - accuracy: 0.8642 - val_loss: 0.3707 - val_accuracy: 0.8494\n",
      "Epoch 31/50\n",
      "4689/4689 [==============================] - 2s 348us/step - loss: 0.3238 - accuracy: 0.8663 - val_loss: 0.3716 - val_accuracy: 0.8490\n",
      "Epoch 32/50\n",
      "4689/4689 [==============================] - 1s 312us/step - loss: 0.3233 - accuracy: 0.8627 - val_loss: 0.3700 - val_accuracy: 0.8468\n",
      "Epoch 33/50\n",
      "4689/4689 [==============================] - 1s 229us/step - loss: 0.3220 - accuracy: 0.8663 - val_loss: 0.3731 - val_accuracy: 0.8494\n",
      "Epoch 34/50\n",
      "4689/4689 [==============================] - 1s 189us/step - loss: 0.3226 - accuracy: 0.8684 - val_loss: 0.3676 - val_accuracy: 0.8486\n",
      "Epoch 35/50\n",
      "4689/4689 [==============================] - 1s 196us/step - loss: 0.3205 - accuracy: 0.8659 - val_loss: 0.3702 - val_accuracy: 0.8490\n",
      "Epoch 36/50\n",
      "4689/4689 [==============================] - 1s 172us/step - loss: 0.3208 - accuracy: 0.8686 - val_loss: 0.3690 - val_accuracy: 0.8503\n",
      "Epoch 37/50\n",
      "4689/4689 [==============================] - 1s 168us/step - loss: 0.3205 - accuracy: 0.8686 - val_loss: 0.3733 - val_accuracy: 0.8468\n",
      "Epoch 38/50\n",
      "4689/4689 [==============================] - 1s 172us/step - loss: 0.3200 - accuracy: 0.8703 - val_loss: 0.3718 - val_accuracy: 0.8481\n",
      "Epoch 39/50\n",
      "4689/4689 [==============================] - 787s 168ms/step - loss: 0.3193 - accuracy: 0.8663 - val_loss: 0.3739 - val_accuracy: 0.8464\n",
      "Epoch 40/50\n",
      "4689/4689 [==============================] - 1s 224us/step - loss: 0.3195 - accuracy: 0.8691 - val_loss: 0.3747 - val_accuracy: 0.8494\n",
      "Epoch 41/50\n",
      "4689/4689 [==============================] - 1s 194us/step - loss: 0.3173 - accuracy: 0.8676 - val_loss: 0.3772 - val_accuracy: 0.8408\n",
      "Epoch 42/50\n",
      "4689/4689 [==============================] - 1s 205us/step - loss: 0.3176 - accuracy: 0.8691 - val_loss: 0.3766 - val_accuracy: 0.8464\n",
      "Epoch 43/50\n",
      "4689/4689 [==============================] - 2s 325us/step - loss: 0.3167 - accuracy: 0.8699 - val_loss: 0.3731 - val_accuracy: 0.8477\n",
      "Epoch 44/50\n",
      "4689/4689 [==============================] - 1s 197us/step - loss: 0.3173 - accuracy: 0.8676 - val_loss: 0.3770 - val_accuracy: 0.8524\n",
      "Epoch 45/50\n",
      "4689/4689 [==============================] - 1s 240us/step - loss: 0.3159 - accuracy: 0.8699 - val_loss: 0.3701 - val_accuracy: 0.8503\n",
      "Epoch 46/50\n",
      "4689/4689 [==============================] - 1s 249us/step - loss: 0.3151 - accuracy: 0.8693 - val_loss: 0.3709 - val_accuracy: 0.8481\n",
      "Epoch 47/50\n",
      "4689/4689 [==============================] - 1s 188us/step - loss: 0.3153 - accuracy: 0.8686 - val_loss: 0.3721 - val_accuracy: 0.8447\n",
      "Epoch 48/50\n",
      "4689/4689 [==============================] - 1s 186us/step - loss: 0.3140 - accuracy: 0.8693 - val_loss: 0.3753 - val_accuracy: 0.8486\n",
      "Epoch 49/50\n",
      "4689/4689 [==============================] - 1s 274us/step - loss: 0.3147 - accuracy: 0.8684 - val_loss: 0.3733 - val_accuracy: 0.8490\n",
      "Epoch 50/50\n",
      "4689/4689 [==============================] - 1s 281us/step - loss: 0.3150 - accuracy: 0.8697 - val_loss: 0.3721 - val_accuracy: 0.8451\n"
     ]
    }
   ],
   "source": [
    "classifier=Sequential()\n",
    "classifier.add(Dense(units=10,kernel_initializer=\"he_normal\",activation=\"relu\",input_dim=10))\n",
    "classifier.add(Dense(units=20,kernel_initializer=\"he_normal\",activation=\"relu\"))\n",
    "classifier.add(Dense(units=15,kernel_initializer=\"he_normal\",activation=\"relu\"))\n",
    "classifier.add(Dense(units=1,kernel_initializer=\"glorot_uniform\",activation=\"sigmoid\"))\n",
    "classifier.compile(optimizer=\"adam\",loss=\"binary_crossentropy\",metrics=[\"accuracy\"])\n",
    "model_history=classifier.fit(x_train,y_train,validation_split=0.33,batch_size=10,epochs=50)"
   ]
  },
  {
   "cell_type": "code",
   "execution_count": 60,
   "metadata": {},
   "outputs": [
    {
     "name": "stdout",
     "output_type": "stream",
     "text": [
      "[[2315  101]\n",
      " [ 329  255]]\n",
      "0.8566666666666667\n"
     ]
    }
   ],
   "source": [
    "y_pred=classifier.predict(x_test)\n",
    "y_pred=(y_pred > 0.5)\n",
    "cm=confusion_matrix(y_test,y_pred)\n",
    "print(cm)\n",
    "score=accuracy_score(y_pred,y_test)\n",
    "print(score)"
   ]
  },
  {
   "cell_type": "code",
   "execution_count": null,
   "metadata": {},
   "outputs": [],
   "source": [
    "# if still we want to increase accuracy then addinf hidden layer will overfit \n",
    "# here we are using Dropout to increase accuracy"
   ]
  },
  {
   "cell_type": "code",
   "execution_count": 61,
   "metadata": {},
   "outputs": [
    {
     "name": "stdout",
     "output_type": "stream",
     "text": [
      "Train on 4689 samples, validate on 2311 samples\n",
      "Epoch 1/50\n",
      "4689/4689 [==============================] - 4s 781us/step - loss: 0.6310 - accuracy: 0.7091 - val_loss: 0.5003 - val_accuracy: 0.7893\n",
      "Epoch 2/50\n",
      "4689/4689 [==============================] - 2s 489us/step - loss: 0.5170 - accuracy: 0.7884 - val_loss: 0.4869 - val_accuracy: 0.7893\n",
      "Epoch 3/50\n",
      "4689/4689 [==============================] - 3s 677us/step - loss: 0.4925 - accuracy: 0.7925 - val_loss: 0.4733 - val_accuracy: 0.7893\n",
      "Epoch 4/50\n",
      "4689/4689 [==============================] - 3s 681us/step - loss: 0.4863 - accuracy: 0.7940 - val_loss: 0.4681 - val_accuracy: 0.7893\n",
      "Epoch 5/50\n",
      "4689/4689 [==============================] - 3s 633us/step - loss: 0.4818 - accuracy: 0.7948 - val_loss: 0.4653 - val_accuracy: 0.7893\n",
      "Epoch 6/50\n",
      "4689/4689 [==============================] - 3s 653us/step - loss: 0.4730 - accuracy: 0.7948 - val_loss: 0.4573 - val_accuracy: 0.7893\n",
      "Epoch 7/50\n",
      "4689/4689 [==============================] - 3s 682us/step - loss: 0.4683 - accuracy: 0.7948 - val_loss: 0.4510 - val_accuracy: 0.7893\n",
      "Epoch 8/50\n",
      "4689/4689 [==============================] - 3s 597us/step - loss: 0.4655 - accuracy: 0.7983 - val_loss: 0.4491 - val_accuracy: 0.7919\n",
      "Epoch 9/50\n",
      "4689/4689 [==============================] - 3s 616us/step - loss: 0.4602 - accuracy: 0.7968 - val_loss: 0.4510 - val_accuracy: 0.7897\n",
      "Epoch 10/50\n",
      "4689/4689 [==============================] - 2s 499us/step - loss: 0.4529 - accuracy: 0.8038 - val_loss: 0.4405 - val_accuracy: 0.7958\n",
      "Epoch 11/50\n",
      "4689/4689 [==============================] - 3s 634us/step - loss: 0.4471 - accuracy: 0.8076 - val_loss: 0.4393 - val_accuracy: 0.8079\n",
      "Epoch 12/50\n",
      "4689/4689 [==============================] - 3s 669us/step - loss: 0.4456 - accuracy: 0.8078 - val_loss: 0.4372 - val_accuracy: 0.8209\n",
      "Epoch 13/50\n",
      "4689/4689 [==============================] - 3s 733us/step - loss: 0.4486 - accuracy: 0.8089 - val_loss: 0.4376 - val_accuracy: 0.8083\n",
      "Epoch 14/50\n",
      "4689/4689 [==============================] - 3s 711us/step - loss: 0.4484 - accuracy: 0.8074 - val_loss: 0.4342 - val_accuracy: 0.8135\n",
      "Epoch 15/50\n",
      "4689/4689 [==============================] - 3s 662us/step - loss: 0.4386 - accuracy: 0.8110 - val_loss: 0.4328 - val_accuracy: 0.8235\n",
      "Epoch 16/50\n",
      "4689/4689 [==============================] - 3s 673us/step - loss: 0.4425 - accuracy: 0.8087 - val_loss: 0.4346 - val_accuracy: 0.8170\n",
      "Epoch 17/50\n",
      "4689/4689 [==============================] - 3s 671us/step - loss: 0.4384 - accuracy: 0.8166 - val_loss: 0.4319 - val_accuracy: 0.8248\n",
      "Epoch 18/50\n",
      "4689/4689 [==============================] - 3s 654us/step - loss: 0.4397 - accuracy: 0.8087 - val_loss: 0.4343 - val_accuracy: 0.8235\n",
      "Epoch 19/50\n",
      "4689/4689 [==============================] - 3s 648us/step - loss: 0.4362 - accuracy: 0.8168 - val_loss: 0.4257 - val_accuracy: 0.8239\n",
      "Epoch 20/50\n",
      "4689/4689 [==============================] - 3s 677us/step - loss: 0.4320 - accuracy: 0.8177 - val_loss: 0.4282 - val_accuracy: 0.8248\n",
      "Epoch 21/50\n",
      "4689/4689 [==============================] - 3s 729us/step - loss: 0.4323 - accuracy: 0.8160 - val_loss: 0.4260 - val_accuracy: 0.8248\n",
      "Epoch 22/50\n",
      "4689/4689 [==============================] - 3s 673us/step - loss: 0.4264 - accuracy: 0.8117 - val_loss: 0.4252 - val_accuracy: 0.8248\n",
      "Epoch 23/50\n",
      "4689/4689 [==============================] - 3s 683us/step - loss: 0.4300 - accuracy: 0.8123 - val_loss: 0.4298 - val_accuracy: 0.8239\n",
      "Epoch 24/50\n",
      "4689/4689 [==============================] - 3s 644us/step - loss: 0.4284 - accuracy: 0.8117 - val_loss: 0.4304 - val_accuracy: 0.8230\n",
      "Epoch 25/50\n",
      "4689/4689 [==============================] - 3s 610us/step - loss: 0.4242 - accuracy: 0.8138 - val_loss: 0.4246 - val_accuracy: 0.8256\n",
      "Epoch 26/50\n",
      "4689/4689 [==============================] - 2s 424us/step - loss: 0.4253 - accuracy: 0.8162 - val_loss: 0.4274 - val_accuracy: 0.8252\n",
      "Epoch 27/50\n",
      "4689/4689 [==============================] - 3s 535us/step - loss: 0.4272 - accuracy: 0.8140 - val_loss: 0.4221 - val_accuracy: 0.8243\n",
      "Epoch 28/50\n",
      "4689/4689 [==============================] - 3s 662us/step - loss: 0.4264 - accuracy: 0.8115 - val_loss: 0.4240 - val_accuracy: 0.8260\n",
      "Epoch 29/50\n",
      "4689/4689 [==============================] - 3s 556us/step - loss: 0.4241 - accuracy: 0.8130 - val_loss: 0.4238 - val_accuracy: 0.8256\n",
      "Epoch 30/50\n",
      "4689/4689 [==============================] - 3s 551us/step - loss: 0.4196 - accuracy: 0.8168 - val_loss: 0.4248 - val_accuracy: 0.8243\n",
      "Epoch 31/50\n",
      "4689/4689 [==============================] - 3s 602us/step - loss: 0.4180 - accuracy: 0.8192 - val_loss: 0.4234 - val_accuracy: 0.8248\n",
      "Epoch 32/50\n",
      "4689/4689 [==============================] - 3s 570us/step - loss: 0.4197 - accuracy: 0.8157 - val_loss: 0.4218 - val_accuracy: 0.8230\n",
      "Epoch 33/50\n",
      "4689/4689 [==============================] - 2s 530us/step - loss: 0.4265 - accuracy: 0.8151 - val_loss: 0.4242 - val_accuracy: 0.8235\n",
      "Epoch 34/50\n",
      "4689/4689 [==============================] - 3s 629us/step - loss: 0.4215 - accuracy: 0.8147 - val_loss: 0.4252 - val_accuracy: 0.8213\n",
      "Epoch 35/50\n",
      "4689/4689 [==============================] - 3s 539us/step - loss: 0.4259 - accuracy: 0.8115 - val_loss: 0.4248 - val_accuracy: 0.8230\n",
      "Epoch 36/50\n",
      "4689/4689 [==============================] - 3s 557us/step - loss: 0.4184 - accuracy: 0.8183 - val_loss: 0.4230 - val_accuracy: 0.8235\n",
      "Epoch 37/50\n",
      "4689/4689 [==============================] - 3s 651us/step - loss: 0.4217 - accuracy: 0.8206 - val_loss: 0.4230 - val_accuracy: 0.8248\n",
      "Epoch 38/50\n",
      "4689/4689 [==============================] - 2s 516us/step - loss: 0.4180 - accuracy: 0.8134 - val_loss: 0.4216 - val_accuracy: 0.8248\n",
      "Epoch 39/50\n",
      "4689/4689 [==============================] - 3s 614us/step - loss: 0.4236 - accuracy: 0.8140 - val_loss: 0.4258 - val_accuracy: 0.8256\n",
      "Epoch 40/50\n",
      "4689/4689 [==============================] - 3s 624us/step - loss: 0.4166 - accuracy: 0.8138 - val_loss: 0.4204 - val_accuracy: 0.8248\n",
      "Epoch 41/50\n",
      "4689/4689 [==============================] - 3s 611us/step - loss: 0.4176 - accuracy: 0.8168 - val_loss: 0.4238 - val_accuracy: 0.8256\n",
      "Epoch 42/50\n",
      "4689/4689 [==============================] - 3s 626us/step - loss: 0.4159 - accuracy: 0.8172 - val_loss: 0.4208 - val_accuracy: 0.8243\n",
      "Epoch 43/50\n",
      "4689/4689 [==============================] - 3s 598us/step - loss: 0.4182 - accuracy: 0.8170 - val_loss: 0.4208 - val_accuracy: 0.8304\n",
      "Epoch 44/50\n",
      "4689/4689 [==============================] - 3s 644us/step - loss: 0.4192 - accuracy: 0.8198 - val_loss: 0.4220 - val_accuracy: 0.8248\n",
      "Epoch 45/50\n",
      "4689/4689 [==============================] - 3s 602us/step - loss: 0.4172 - accuracy: 0.8145 - val_loss: 0.4208 - val_accuracy: 0.8204\n",
      "Epoch 46/50\n",
      "4689/4689 [==============================] - 3s 604us/step - loss: 0.4159 - accuracy: 0.8183 - val_loss: 0.4206 - val_accuracy: 0.8265\n",
      "Epoch 47/50\n",
      "4689/4689 [==============================] - 2s 523us/step - loss: 0.4192 - accuracy: 0.8166 - val_loss: 0.4230 - val_accuracy: 0.8269\n",
      "Epoch 48/50\n",
      "4689/4689 [==============================] - 3s 611us/step - loss: 0.4191 - accuracy: 0.8106 - val_loss: 0.4228 - val_accuracy: 0.8286\n",
      "Epoch 49/50\n",
      "4689/4689 [==============================] - 3s 604us/step - loss: 0.4177 - accuracy: 0.8187 - val_loss: 0.4202 - val_accuracy: 0.8304\n",
      "Epoch 50/50\n",
      "4689/4689 [==============================] - 3s 615us/step - loss: 0.4145 - accuracy: 0.8179 - val_loss: 0.4209 - val_accuracy: 0.8282\n"
     ]
    }
   ],
   "source": [
    "classifier=Sequential()\n",
    "classifier.add(Dense(units=10,kernel_initializer=\"he_normal\",activation=\"relu\",input_dim=10))\n",
    "classifier.add(Dropout(0.3))  # adding dropout\n",
    "classifier.add(Dense(units=20,kernel_initializer=\"he_normal\",activation=\"relu\"))\n",
    "classifier.add(Dropout(0.4))\n",
    "classifier.add(Dense(units=15,kernel_initializer=\"he_normal\",activation=\"relu\"))\n",
    "classifier.add(Dropout(0.2))\n",
    "classifier.add(Dense(units=1,kernel_initializer=\"glorot_uniform\",activation=\"sigmoid\"))\n",
    "classifier.compile(optimizer=\"adam\",loss=\"binary_crossentropy\",metrics=[\"accuracy\"])\n",
    "model_history=classifier.fit(x_train,y_train,validation_split=0.33,batch_size=10,epochs=50)"
   ]
  },
  {
   "cell_type": "code",
   "execution_count": 62,
   "metadata": {},
   "outputs": [
    {
     "name": "stdout",
     "output_type": "stream",
     "text": [
      "[[2274  142]\n",
      " [ 340  244]]\n",
      "0.8393333333333334\n"
     ]
    }
   ],
   "source": [
    "y_pred=classifier.predict(x_test)\n",
    "y_pred=(y_pred > 0.5)\n",
    "cm=confusion_matrix(y_test,y_pred)\n",
    "print(cm)\n",
    "score=accuracy_score(y_pred,y_test)\n",
    "print(score)"
   ]
  },
  {
   "cell_type": "code",
   "execution_count": null,
   "metadata": {},
   "outputs": [],
   "source": [
    "# Evaluating model"
   ]
  },
  {
   "cell_type": "code",
   "execution_count": 63,
   "metadata": {},
   "outputs": [],
   "source": [
    "from keras.wrappers.scikit_learn import KerasClassifier\n",
    "from sklearn.model_selection import cross_val_score"
   ]
  },
  {
   "cell_type": "code",
   "execution_count": 64,
   "metadata": {},
   "outputs": [],
   "source": [
    "def build_classifier():\n",
    "    classifier = Sequential()\n",
    "    classifier.add(Dense(output_dim = 6, init = 'uniform', activation = 'relu', input_dim = 10))\n",
    "    classifier.add(Dense(output_dim = 6, init = 'uniform', activation = 'relu'))\n",
    "    classifier.add(Dense(output_dim = 1, init = 'uniform', activation = 'relu'))\n",
    "    classifier.compile(optimizer = 'adam', loss = 'binary_crossentropy', metrics = ['accuracy'])\n",
    "    return classifier"
   ]
  },
  {
   "cell_type": "code",
   "execution_count": 66,
   "metadata": {},
   "outputs": [
    {
     "name": "stderr",
     "output_type": "stream",
     "text": [
      "[Parallel(n_jobs=-1)]: Using backend LokyBackend with 8 concurrent workers.\n",
      "[Parallel(n_jobs=-1)]: Done   7 out of  10 | elapsed:  2.3min remaining:  1.0min\n",
      "[Parallel(n_jobs=-1)]: Done  10 out of  10 | elapsed:  3.6min finished\n"
     ]
    }
   ],
   "source": [
    "kerasClassifier = KerasClassifier(build_fn = build_classifier, batch_size = 10, epochs = 50)\n",
    "accuracies = cross_val_score(estimator = kerasClassifier, \n",
    "                             X = x_train, \n",
    "                             y = y_train, \n",
    "                             cv = 10,\n",
    "                             n_jobs = -1,\n",
    "                             verbose = 2,\n",
    "                             scoring = 'accuracy')"
   ]
  },
  {
   "cell_type": "code",
   "execution_count": 67,
   "metadata": {},
   "outputs": [
    {
     "name": "stdout",
     "output_type": "stream",
     "text": [
      "Mean accuracy: 0.82\n",
      "Variance accuracy: 0.03\n"
     ]
    }
   ],
   "source": [
    "print(\"Mean accuracy: {:.2f}\".format(accuracies.mean()))\n",
    "print(\"Variance accuracy: {:.2f}\".format(accuracies.std()))"
   ]
  },
  {
   "cell_type": "code",
   "execution_count": 73,
   "metadata": {},
   "outputs": [
    {
     "name": "stdout",
     "output_type": "stream",
     "text": [
      "dict_keys(['val_loss', 'val_accuracy', 'loss', 'accuracy'])\n"
     ]
    },
    {
     "data": {
      "image/png": "[encoded data removed]",
      "text/plain": [
       "<Figure size 432x288 with 1 Axes>"
      ]
     },
     "metadata": {
      "needs_background": "light"
     },
     "output_type": "display_data"
    }
   ],
   "source": [
    "# list all data in history\n",
    "\n",
    "print(model_history.history.keys())\n",
    "# summarize history for accuracy\n",
    "plt.plot(model_history.history['accuracy'])\n",
    "plt.plot(model_history.history['val_accuracy'])\n",
    "plt.title('model accuracy')\n",
    "plt.ylabel('accuracy')\n",
    "plt.xlabel('epoch')\n",
    "plt.legend(['train', 'test'], loc='upper left')\n",
    "plt.show()"
   ]
  },
  {
   "cell_type": "code",
   "execution_count": 74,
   "metadata": {},
   "outputs": [
    {
     "data": {
      "image/png": "[encoded data removed]",
      "text/plain": [
       "<Figure size 432x288 with 1 Axes>"
      ]
     },
     "metadata": {
      "needs_background": "light"
     },
     "output_type": "display_data"
    }
   ],
   "source": [
    "# summarize history for loss\n",
    "plt.plot(model_history.history['loss'])\n",
    "plt.plot(model_history.history['val_loss'])\n",
    "plt.title('model loss')\n",
    "plt.ylabel('loss')\n",
    "plt.xlabel('epoch')\n",
    "plt.legend(['train', 'test'], loc='upper left')\n",
    "plt.show()"
   ]
  },
  {
   "cell_type": "code",
   "execution_count": null,
   "metadata": {},
   "outputs": [],
   "source": []
  },
  {
   "cell_type": "code",
   "execution_count": null,
   "metadata": {},
   "outputs": [],
   "source": []
  },
  {
   "cell_type": "code",
   "execution_count": null,
   "metadata": {},
   "outputs": [],
   "source": []
  },
  {
   "cell_type": "code",
   "execution_count": null,
   "metadata": {},
   "outputs": [],
   "source": []
  },
  {
   "cell_type": "code",
   "execution_count": null,
   "metadata": {},
   "outputs": [],
   "source": []
  },
  {
   "cell_type": "code",
   "execution_count": null,
   "metadata": {},
   "outputs": [],
   "source": []
  },
  {
   "cell_type": "code",
   "execution_count": null,
   "metadata": {},
   "outputs": [],
   "source": []
  },
  {
   "cell_type": "code",
   "execution_count": null,
   "metadata": {},
   "outputs": [],
   "source": []
  },
  {
   "cell_type": "code",
   "execution_count": null,
   "metadata": {},
   "outputs": [],
   "source": []
  }
 ],
 "metadata": {
  "kernelspec": {
   "display_name": "Python 3",
   "language": "python",
   "name": "python3"
  },
  "language_info": {
   "codemirror_mode": {
    "name": "ipython",
    "version": 3
   },
   "file_extension": ".py",
   "mimetype": "text/x-python",
   "name": "python",
   "nbconvert_exporter": "python",
   "pygments_lexer": "ipython3",
   "version": "3.6.5"
  }
 },
 "nbformat": 4,
 "nbformat_minor": 2
}
